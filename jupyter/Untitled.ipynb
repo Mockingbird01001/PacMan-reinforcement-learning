{
 "cells": [
  {
   "cell_type": "code",
   "execution_count": 1,
   "id": "4c73380c",
   "metadata": {},
   "outputs": [],
   "source": [
    "from PIL import Image"
   ]
  },
  {
   "cell_type": "code",
   "execution_count": 12,
   "id": "6ce80892",
   "metadata": {},
   "outputs": [],
   "source": [
    "state = [['%', '%', '%', '%', '%', '%', '%'],\n",
    "['%', 'G', ' ', ' ', ' ', ' ', '%'],\n",
    "['%', '^', '%', '%', '%', ' ', '%'],\n",
    "['%', ' ', '%', '.', ' ', ' ', '%'],\n",
    "['%', ' ', '%', '%', '%', ' ', '%'],\n",
    "['%', '.', ' ', ' ', ' ', ' ', '%'],\n",
    "['%', '%', '%', '%', '%', '%', '%']]\n",
    "\n",
    "image = Image.new(\"RGB\", (len(state[0]), len(state)),(255,255,255))\n",
    "\n",
    "for i in range(len(state)):\n",
    "    for j in range(len(state[0])):\n",
    "        if state[i][j] == '%':\n",
    "            image.putpixel((j,i), (0,0,255))\n",
    "        elif state[i][j] == 'G':\n",
    "            image.putpixel((j,i), (0,255,255))\n",
    "        elif state[i][j] == '>' or state[i][j] == '>' or state[i][j] == '^' or state[i][j] == 'v':\n",
    "            image.putpixel((j,i), (255,255,0))\n",
    "        elif state[i][j] == '.':\n",
    "            image.putpixel((j,i), (255,255,255))\n",
    "        else:\n",
    "            image.putpixel((j,i), (0,0,0))\n",
    "            \n",
    "img = image.save(\"test.png\")"
   ]
  }
 ],
 "metadata": {
  "kernelspec": {
   "display_name": "Python 3 (ipykernel)",
   "language": "python",
   "name": "python3"
  },
  "language_info": {
   "codemirror_mode": {
    "name": "ipython",
    "version": 3
   },
   "file_extension": ".py",
   "mimetype": "text/x-python",
   "name": "python",
   "nbconvert_exporter": "python",
   "pygments_lexer": "ipython3",
   "version": "3.9.13"
  }
 },
 "nbformat": 4,
 "nbformat_minor": 5
}
